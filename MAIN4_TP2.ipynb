{
 "cells": [
  {
   "cell_type": "code",
   "execution_count": 48,
   "metadata": {},
   "outputs": [],
   "source": [
    "import numpy\n",
    "import os\n",
    "\n",
    "import scipy.sparse as sparse\n",
    "import scipy.sparse.linalg\n",
    "\n",
    "import matplotlib.pyplot as plt\n",
    "#import matplotlib.animation as animation\n",
    "from matplotlib import animation, rc\n",
    "from IPython.display import HTML"
   ]
  },
  {
   "cell_type": "code",
   "execution_count": 197,
   "metadata": {},
   "outputs": [],
   "source": [
    "Nx = 200\n",
    "Nt = 2*Nx\n",
    "\n",
    "# domaine spatial et maillage\n",
    "X_min = 0\n",
    "X_max = 1\n",
    "h = 1/Nx\n",
    "X = numpy.zeros(Nx)\n",
    "for i in range(0,Nx):\n",
    "    X[i] = X_min + i*h*(X_max-X_min)\n",
    "\n",
    "# domaine temporel\n",
    "Temps_final = 1\n",
    "dt = Temps_final/Nt\n",
    "        "
   ]
  },
  {
   "cell_type": "code",
   "execution_count": 198,
   "metadata": {},
   "outputs": [],
   "source": [
    "A = 0.5\n",
    "eps = 0.5\n",
    "\n",
    "# fonction initiale\n",
    "def u_ini(x):\n",
    "    return 1+ eps*numpy.sin(2*numpy.pi*x)\n",
    "\n",
    "# champ vitesse\n",
    "def a_func(x):\n",
    "    return 1+A*numpy.cos(2*numpy.pi*x)\n",
    "\n",
    "# solution approchee \n",
    "u_tx = numpy.zeros((Nt+1, Nx))\n",
    "\n",
    "# tableau des masses\n",
    "mass = numpy.zeros((Nt+1))"
   ]
  },
  {
   "cell_type": "code",
   "execution_count": 199,
   "metadata": {},
   "outputs": [],
   "source": [
    "# sol exacte  --  lorsqu'elle est connue !\n",
    "def u_ex(t,x):\n",
    "    return 0"
   ]
  },
  {
   "cell_type": "code",
   "execution_count": 200,
   "metadata": {},
   "outputs": [],
   "source": [
    "def get_times_array_for(array):\n",
    "    Nta = len(array)-1\n",
    "    dta = Temps_final/Nta\n",
    "    times = numpy.zeros(Nta+1)\n",
    "    for n in range(0,Nta+1):\n",
    "        times[n] = n*dta\n",
    "    return times"
   ]
  },
  {
   "cell_type": "code",
   "execution_count": 1,
   "metadata": {},
   "outputs": [],
   "source": [
    "def plot_sol(nt, plot_u_ex=False, Y_min=0, Y_max=2, save_fn=None):\n",
    "    if False: #plot_u_ex:\n",
    "        plt.plot(X, u_ex(nt*dt,X), '-', color='r')\n",
    "        \n",
    "    plt.xlim(X_min, X_max)\n",
    "    plt.ylim(Y_min, Y_max)\n",
    "    plt.xlabel('x')\n",
    "    plt.plot(X, u_tx[nt,:], '-', color='k')\n",
    "    if save_fn is not None:\n",
    "        plt.savefig(save_fn)\n",
    "    plt.show()\n",
    "\n",
    "def plot_x_curves(\n",
    "    array1=None, label1=None, \n",
    "    array2=None, label2=None, \n",
    "    array3=None, label3=None,\n",
    "    name=\"some values along x\", save_fn=None, logscale=False\n",
    "):\n",
    "    \"\"\"\n",
    "    to do\n",
    "    \"\"\"\n",
    "    \n",
    "    \n",
    "def plot_t_curves(\n",
    "    array1=None, label1=None, \n",
    "    array2=None, label2=None, \n",
    "    array3=None, label3=None,\n",
    "    name=\"some values along time\", save_fn=None, logscale=False\n",
    "):\n",
    "    plt.xlabel('t')\n",
    "    plt.ylabel(name)\n",
    "    if logscale:\n",
    "        plt.yscale(\"log\")\n",
    "    assert array1 is not None\n",
    "    times = get_times_array_for(array1)\n",
    "    plt.plot(times, array1, '-', label=label1)\n",
    "    if array2 is not None:\n",
    "        times = get_times_array_for(array2)\n",
    "        plt.plot(times, array2, '-', label=label2)\n",
    "    if array3 is not None:\n",
    "        times = get_times_array_for(array3)        \n",
    "        plt.plot(times, array3, '-', label=label3)\n",
    "    if save_fn is not None:\n",
    "        plt.savefig(save_fn)\n",
    "    if label1 is not None:\n",
    "        plt.legend()\n",
    "    plt.show()\n",
    "    "
   ]
  },
  {
   "cell_type": "code",
   "execution_count": 202,
   "metadata": {},
   "outputs": [
    {
     "data": {
      "image/png": "[encoded data removed]",
      "text/plain": [
       "<Figure size 432x288 with 1 Axes>"
      ]
     },
     "metadata": {},
     "output_type": "display_data"
    },
    {
     "name": "stdout",
     "output_type": "stream",
     "text": [
      "mass =  1.0\n"
     ]
    }
   ],
   "source": [
    "## initialisation de la solution avec u_ini\n",
    "u_tx[0,:] = u_ini(X)\n",
    "plot_sol(0, plot_u_ex=True, save_fn=\"u_ini.png\")\n",
    "\n",
    "mass[0] = h*numpy.sum(u_tx[0,:])\n",
    "print(\"mass = \",mass[0])\n",
    "\n",
    "## vitesse\n",
    "a = numpy.zeros((Nx,))\n",
    "a[:] = a_func(X)\n"
   ]
  },
  {
   "cell_type": "code",
   "execution_count": 203,
   "metadata": {},
   "outputs": [],
   "source": [
    "# choix du type de schema: implicite ou explicite\n",
    "implicit_scheme = False\n"
   ]
  },
  {
   "cell_type": "code",
   "execution_count": 204,
   "metadata": {},
   "outputs": [],
   "source": [
    "# assemblage d'une matrice creuse M (pour un schema implicite)\n",
    "if implicit_scheme:\n",
    "    row = list()\n",
    "    col = list()\n",
    "    data = list()\n",
    "    for i in range(0,Nx):\n",
    "\n",
    "        # M_i,i = qque chose (exemple)\n",
    "        row.append((i))\n",
    "        col.append((i))\n",
    "        data.append( 1+0.5*dt/h )  \n",
    "    \n",
    "        # M_i,i-1 = autre chose (exemple)\n",
    "        row.append((i))\n",
    "        col.append((numpy.mod(i-1,Nx)))  # modulo pour conditions periodiques\n",
    "        data.append( -0.5*dt/h )\n",
    "\n",
    "    row = numpy.array(row)\n",
    "    col = numpy.array(col)\n",
    "    data = numpy.array(data)      \n",
    "    M = (sparse.coo_matrix((data, (row, col)), shape=(Nx, Nx))).tocsr()\n",
    "else:\n",
    "    M = None"
   ]
  },
  {
   "cell_type": "code",
   "execution_count": 205,
   "metadata": {},
   "outputs": [
    {
     "data": {
      "image/png": "[encoded data removed]",
      "text/plain": [
       "<Figure size 432x288 with 1 Axes>"
      ]
     },
     "metadata": {},
     "output_type": "display_data"
    }
   ],
   "source": [
    "# First set up the figure, the axis, and the plot element we want to animate\n",
    "fig, ax = plt.subplots()\n",
    "\n",
    "# on garde les bornes pour afficher les solutions\n",
    "u_min = 0 #min(u_tx[0,:])\n",
    "u_max = 2 # max(u_tx[0,:])\n",
    "Y_min = u_min - 0.1*(u_max-u_min)\n",
    "Y_max = u_max + 0.1*(u_max-u_min)    \n",
    "\n",
    "ax.set_xlim(( 0, 1))\n",
    "ax.set_ylim((Y_min, Y_max))\n",
    "\n",
    "line, = ax.plot([], [], lw=2)\n",
    "line2, = ax.plot([], [], lw=2, color='r')\n",
    "\n",
    "# initialization function: plot the background of each frame\n",
    "def init():\n",
    "    line.set_data([], [])\n",
    "    line2.set_data([], [])\n",
    "    return (line,line2)\n"
   ]
  },
  {
   "cell_type": "code",
   "execution_count": 2,
   "metadata": {},
   "outputs": [
    {
     "ename": "NameError",
     "evalue": "name 'Nt' is not defined",
     "output_type": "error",
     "traceback": [
      "\u001b[0;31m---------------------------------------------------------------------------\u001b[0m",
      "\u001b[0;31mNameError\u001b[0m                                 Traceback (most recent call last)",
      "\u001b[0;32m<ipython-input-2-3a529cf2e56f>\u001b[0m in \u001b[0;36m<module>\u001b[0;34m()\u001b[0m\n\u001b[1;32m      1\u001b[0m \u001b[0;31m## schema numerique\u001b[0m\u001b[0;34m\u001b[0m\u001b[0;34m\u001b[0m\u001b[0m\n\u001b[1;32m      2\u001b[0m \u001b[0;34m\u001b[0m\u001b[0m\n\u001b[0;32m----> 3\u001b[0;31m \u001b[0;32mfor\u001b[0m \u001b[0mnt\u001b[0m \u001b[0;32min\u001b[0m \u001b[0mrange\u001b[0m\u001b[0;34m(\u001b[0m\u001b[0;36m0\u001b[0m\u001b[0;34m,\u001b[0m\u001b[0mNt\u001b[0m\u001b[0;34m)\u001b[0m\u001b[0;34m:\u001b[0m\u001b[0;34m\u001b[0m\u001b[0m\n\u001b[0m\u001b[1;32m      4\u001b[0m     \u001b[0;32mif\u001b[0m \u001b[0mimplicit_scheme\u001b[0m\u001b[0;34m:\u001b[0m\u001b[0;34m\u001b[0m\u001b[0m\n\u001b[1;32m      5\u001b[0m         \u001b[0mu_tx\u001b[0m\u001b[0;34m[\u001b[0m\u001b[0mnt\u001b[0m\u001b[0;34m+\u001b[0m\u001b[0;36m1\u001b[0m\u001b[0;34m,\u001b[0m\u001b[0;34m:\u001b[0m\u001b[0;34m]\u001b[0m \u001b[0;34m=\u001b[0m \u001b[0msparse\u001b[0m\u001b[0;34m.\u001b[0m\u001b[0mlinalg\u001b[0m\u001b[0;34m.\u001b[0m\u001b[0mspsolve\u001b[0m\u001b[0;34m(\u001b[0m\u001b[0mM\u001b[0m\u001b[0;34m,\u001b[0m \u001b[0mu_tx\u001b[0m\u001b[0;34m[\u001b[0m\u001b[0mnt\u001b[0m\u001b[0;34m,\u001b[0m\u001b[0;34m:\u001b[0m\u001b[0;34m]\u001b[0m\u001b[0;34m)\u001b[0m\u001b[0;34m\u001b[0m\u001b[0m\n",
      "\u001b[0;31mNameError\u001b[0m: name 'Nt' is not defined"
     ]
    }
   ],
   "source": [
    "## schema numerique  \n",
    "\n",
    "for nt in range(0,Nt):               \n",
    "    if implicit_scheme:\n",
    "        u_tx[nt+1,:] = sparse.linalg.spsolve(M, u_tx[nt,:])\n",
    "\n",
    "    else:\n",
    "        for i in range(0,Nx):        \n",
    "            u_tx[nt+1,i] = 0.9*u_tx[nt,i]   # todo\n",
    "            \n",
    "            \n",
    "    mass[nt+1] = h*numpy.sum(u_tx[nt+1,:])\n",
    "\n",
    "plot_sol(Nt, save_fn=\"u_final_\"+repr(Nt))\n"
   ]
  },
  {
   "cell_type": "code",
   "execution_count": 208,
   "metadata": {},
   "outputs": [
    {
     "data": {
      "image/png": "[encoded data removed]",
      "text/plain": [
       "<Figure size 432x288 with 1 Axes>"
      ]
     },
     "metadata": {},
     "output_type": "display_data"
    }
   ],
   "source": [
    "plot_t_curves(array1=mass, label1=\"mass\", name=\"mass of approximate solutions\")"
   ]
  },
  {
   "cell_type": "code",
   "execution_count": 3,
   "metadata": {},
   "outputs": [
    {
     "ename": "NameError",
     "evalue": "name 'numpy' is not defined",
     "output_type": "error",
     "traceback": [
      "\u001b[0;31m---------------------------------------------------------------------------\u001b[0m",
      "\u001b[0;31mNameError\u001b[0m                                 Traceback (most recent call last)",
      "\u001b[0;32m<ipython-input-3-a12facf460f9>\u001b[0m in \u001b[0;36m<module>\u001b[0;34m()\u001b[0m\n\u001b[1;32m      1\u001b[0m \u001b[0;31m# estimations d'erreurs locales:\u001b[0m\u001b[0;34m\u001b[0m\u001b[0;34m\u001b[0m\u001b[0m\n\u001b[0;32m----> 2\u001b[0;31m \u001b[0merr_loc\u001b[0m \u001b[0;34m=\u001b[0m \u001b[0mnumpy\u001b[0m\u001b[0;34m.\u001b[0m\u001b[0mzeros\u001b[0m\u001b[0;34m(\u001b[0m\u001b[0;34m(\u001b[0m\u001b[0mNt\u001b[0m\u001b[0;34m+\u001b[0m\u001b[0;36m1\u001b[0m\u001b[0;34m,\u001b[0m\u001b[0mNx\u001b[0m\u001b[0;34m)\u001b[0m\u001b[0;34m)\u001b[0m\u001b[0;34m\u001b[0m\u001b[0m\n\u001b[0m\u001b[1;32m      3\u001b[0m \u001b[0merr_loc_norm\u001b[0m \u001b[0;34m=\u001b[0m \u001b[0mnumpy\u001b[0m\u001b[0;34m.\u001b[0m\u001b[0mzeros\u001b[0m\u001b[0;34m(\u001b[0m\u001b[0;34m(\u001b[0m\u001b[0mNt\u001b[0m\u001b[0;34m+\u001b[0m\u001b[0;36m1\u001b[0m\u001b[0;34m)\u001b[0m\u001b[0;34m)\u001b[0m\u001b[0;34m\u001b[0m\u001b[0m\n\u001b[1;32m      4\u001b[0m \u001b[0;34m\u001b[0m\u001b[0m\n\u001b[1;32m      5\u001b[0m \u001b[0;32mfor\u001b[0m \u001b[0mnt\u001b[0m \u001b[0;32min\u001b[0m \u001b[0mrange\u001b[0m\u001b[0;34m(\u001b[0m\u001b[0;36m0\u001b[0m\u001b[0;34m,\u001b[0m\u001b[0mNt\u001b[0m\u001b[0;34m)\u001b[0m\u001b[0;34m:\u001b[0m\u001b[0;34m\u001b[0m\u001b[0m\n",
      "\u001b[0;31mNameError\u001b[0m: name 'numpy' is not defined"
     ]
    }
   ],
   "source": [
    "# estimations d'erreurs locales:\n",
    "err_loc = numpy.zeros((Nt+1,Nx))\n",
    "err_loc_norm = numpy.zeros((Nt+1))\n",
    "\n",
    "for nt in range(0,Nt):\n",
    "    for i in range(0,Nx):                    \n",
    "        ip = numpy.mod(i+1,Nx)\n",
    "        im = numpy.mod(i-1,Nx)\n",
    "        err_loc[nt,i] = 0        # todo\n",
    "\n",
    "    # norme (L2) des erreurs locales, pour l'instant t = nt * dt\n",
    "    tmp_sum = 0\n",
    "    for i in range(0,Nx):\n",
    "        tmp_sum += err_loc[nt,i]**2\n",
    "    err_loc_norm[nt] = numpy.sqrt(h*tmp_sum)\n",
    "        \n",
    "    # err_loc_norm[nt+1] = numpy.sqrt((h**2)*numpy.sum(u_tx[nt+1,:]**2))\n"
   ]
  },
  {
   "cell_type": "code",
   "execution_count": null,
   "metadata": {},
   "outputs": [],
   "source": []
  },
  {
   "cell_type": "markdown",
   "metadata": {},
   "source": [
    "### stockage de quelques erreurs pour comparaison"
   ]
  },
  {
   "cell_type": "code",
   "execution_count": 162,
   "metadata": {},
   "outputs": [],
   "source": [
    "err_loc_norm_1 = err_loc_norm\n",
    "label_1 = repr(Nt)+\"_\"+repr(Nx)"
   ]
  },
  {
   "cell_type": "code",
   "execution_count": 175,
   "metadata": {},
   "outputs": [],
   "source": [
    "err_loc_norm_2 = err_loc_norm\n",
    "label_2 = repr(Nt)+\"_\"+repr(Nx)"
   ]
  },
  {
   "cell_type": "code",
   "execution_count": 210,
   "metadata": {},
   "outputs": [],
   "source": [
    "err_loc_norm_3 = err_loc_norm\n",
    "label_3 = repr(Nt)+\"_\"+repr(Nx)"
   ]
  },
  {
   "cell_type": "code",
   "execution_count": 4,
   "metadata": {},
   "outputs": [
    {
     "ename": "NameError",
     "evalue": "name 'err_loc_norm_1' is not defined",
     "output_type": "error",
     "traceback": [
      "\u001b[0;31m---------------------------------------------------------------------------\u001b[0m",
      "\u001b[0;31mNameError\u001b[0m                                 Traceback (most recent call last)",
      "\u001b[0;32m<ipython-input-4-d645cfb7c8b7>\u001b[0m in \u001b[0;36m<module>\u001b[0;34m()\u001b[0m\n\u001b[1;32m      1\u001b[0m plot_t_curves(\n\u001b[0;32m----> 2\u001b[0;31m     \u001b[0marray1\u001b[0m\u001b[0;34m=\u001b[0m\u001b[0merr_loc_norm_1\u001b[0m\u001b[0;34m,\u001b[0m \u001b[0mlabel1\u001b[0m\u001b[0;34m=\u001b[0m\u001b[0mlabel_1\u001b[0m\u001b[0;34m,\u001b[0m\u001b[0;34m\u001b[0m\u001b[0m\n\u001b[0m\u001b[1;32m      3\u001b[0m     \u001b[0marray2\u001b[0m\u001b[0;34m=\u001b[0m\u001b[0merr_loc_norm_2\u001b[0m\u001b[0;34m,\u001b[0m \u001b[0mlabel2\u001b[0m\u001b[0;34m=\u001b[0m\u001b[0mlabel_2\u001b[0m\u001b[0;34m,\u001b[0m\u001b[0;34m\u001b[0m\u001b[0m\n\u001b[1;32m      4\u001b[0m     \u001b[0marray3\u001b[0m\u001b[0;34m=\u001b[0m\u001b[0merr_loc_norm_3\u001b[0m\u001b[0;34m,\u001b[0m \u001b[0mlabel3\u001b[0m\u001b[0;34m=\u001b[0m\u001b[0mlabel_3\u001b[0m\u001b[0;34m,\u001b[0m\u001b[0;34m\u001b[0m\u001b[0m\n\u001b[1;32m      5\u001b[0m     name=\"local error norms\", logscale=True)\n",
      "\u001b[0;31mNameError\u001b[0m: name 'err_loc_norm_1' is not defined"
     ]
    }
   ],
   "source": [
    "plot_t_curves(\n",
    "    array1=err_loc_norm_1, label1=label_1, \n",
    "    array2=err_loc_norm_2, label2=label_2, \n",
    "    array3=err_loc_norm_3, label3=label_3, \n",
    "    name=\"local error norms\", logscale=True)"
   ]
  },
  {
   "cell_type": "markdown",
   "metadata": {},
   "source": [
    "### animation de la dernière solution calculée"
   ]
  },
  {
   "cell_type": "code",
   "execution_count": 71,
   "metadata": {},
   "outputs": [],
   "source": [
    "# animation function\n",
    "def animate(nt):\n",
    "    line.set_data(X, u_tx[nt,:])\n",
    "    #line2.set_data(X, u_ex(nt*dt,X))\n",
    "    return (line,line2)\n",
    "#plt.show()    "
   ]
  },
  {
   "cell_type": "code",
   "execution_count": 5,
   "metadata": {},
   "outputs": [
    {
     "ename": "NameError",
     "evalue": "name 'animation' is not defined",
     "output_type": "error",
     "traceback": [
      "\u001b[0;31m---------------------------------------------------------------------------\u001b[0m",
      "\u001b[0;31mNameError\u001b[0m                                 Traceback (most recent call last)",
      "\u001b[0;32m<ipython-input-5-6bab59656043>\u001b[0m in \u001b[0;36m<module>\u001b[0;34m()\u001b[0m\n\u001b[1;32m      4\u001b[0m \u001b[0;31m# see https://matplotlib.org/api/_as_gen/matplotlib.animation.FuncAnimation.html\u001b[0m\u001b[0;34m\u001b[0m\u001b[0;34m\u001b[0m\u001b[0m\n\u001b[1;32m      5\u001b[0m \u001b[0;34m\u001b[0m\u001b[0m\n\u001b[0;32m----> 6\u001b[0;31m anim = animation.FuncAnimation(fig, animate, init_func=init,\n\u001b[0m\u001b[1;32m      7\u001b[0m                                frames=Nt+1, interval=20, blit=True)\n\u001b[1;32m      8\u001b[0m \u001b[0mHTML\u001b[0m\u001b[0;34m(\u001b[0m\u001b[0manim\u001b[0m\u001b[0;34m.\u001b[0m\u001b[0mto_html5_video\u001b[0m\u001b[0;34m(\u001b[0m\u001b[0;34m)\u001b[0m\u001b[0;34m)\u001b[0m\u001b[0;34m\u001b[0m\u001b[0m\n",
      "\u001b[0;31mNameError\u001b[0m: name 'animation' is not defined"
     ]
    }
   ],
   "source": [
    "# call the animator. \n",
    "# interval: Delay between frames in milliseconds. Defaults to 200.\n",
    "# blit=True means only re-draw the parts that have changed.\n",
    "# see https://matplotlib.org/api/_as_gen/matplotlib.animation.FuncAnimation.html\n",
    "\n",
    "anim = animation.FuncAnimation(fig, animate, init_func=init,\n",
    "                               frames=Nt+1, interval=20, blit=True)\n",
    "HTML(anim.to_html5_video())"
   ]
  },
  {
   "cell_type": "code",
   "execution_count": null,
   "metadata": {},
   "outputs": [],
   "source": []
  },
  {
   "cell_type": "code",
   "execution_count": null,
   "metadata": {},
   "outputs": [],
   "source": []
  },
  {
   "cell_type": "code",
   "execution_count": null,
   "metadata": {},
   "outputs": [],
   "source": []
  },
  {
   "cell_type": "code",
   "execution_count": null,
   "metadata": {},
   "outputs": [],
   "source": []
  },
  {
   "cell_type": "code",
   "execution_count": null,
   "metadata": {},
   "outputs": [],
   "source": []
  }
 ],
 "metadata": {
  "kernelspec": {
   "display_name": "Python 3",
   "language": "python",
   "name": "python3"
  },
  "language_info": {
   "codemirror_mode": {
    "name": "ipython",
    "version": 3
   },
   "file_extension": ".py",
   "mimetype": "text/x-python",
   "name": "python",
   "nbconvert_exporter": "python",
   "pygments_lexer": "ipython3",
   "version": "3.6.4"
  }
 },
 "nbformat": 4,
 "nbformat_minor": 2
}
